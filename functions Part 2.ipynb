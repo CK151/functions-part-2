{
 "cells": [
  {
   "cell_type": "markdown",
   "id": "25558a97",
   "metadata": {},
   "source": [
    "functions part 2"
   ]
  },
  {
   "cell_type": "markdown",
   "id": "b52406b2",
   "metadata": {},
   "source": [
    "Write a function called divide_or_square that takes one argument (a\n",
    "number), and returns the square root of the number if it is divisible by\n",
    "5, returns its remainder if it is not divisible by 5. For example, if you\n",
    "pass 10 as an argument, then your function should return 3.16 as the\n",
    "square root."
   ]
  },
  {
   "cell_type": "code",
   "execution_count": 13,
   "id": "c755a4e3",
   "metadata": {},
   "outputs": [],
   "source": [
    "def divide_or_square(num):\n",
    "    if num % 5 == 0:\n",
    "        return num ** 0.5\n",
    "    else:\n",
    "        return num % 5"
   ]
  },
  {
   "cell_type": "code",
   "execution_count": 20,
   "id": "ae955cee",
   "metadata": {},
   "outputs": [
    {
     "data": {
      "text/plain": [
       "2"
      ]
     },
     "execution_count": 20,
     "metadata": {},
     "output_type": "execute_result"
    }
   ],
   "source": [
    "divide_or_square(22)"
   ]
  },
  {
   "cell_type": "markdown",
   "id": "2e67be83",
   "metadata": {},
   "source": [
    "Write a function called convert_add that takes a list of strings as an\n",
    "argument and converts it to integers and sums the list. For example\n",
    "[‘1’, ‘3’, ‘5’] should be converted to [1, 3, 5] and summed to 9."
   ]
  },
  {
   "cell_type": "code",
   "execution_count": 25,
   "id": "4c53f3ef",
   "metadata": {},
   "outputs": [],
   "source": [
    "def convert_add(num):\n",
    "    lst = []\n",
    "    for i in num:\n",
    "        lst.append(int(i))\n",
    "    return sum(lst)\n",
    "    \n",
    "        "
   ]
  },
  {
   "cell_type": "code",
   "execution_count": 27,
   "id": "41e3c66c",
   "metadata": {},
   "outputs": [
    {
     "data": {
      "text/plain": [
       "9"
      ]
     },
     "execution_count": 27,
     "metadata": {},
     "output_type": "execute_result"
    }
   ],
   "source": [
    "convert_add([\"1\",\"3\",\"5\"])"
   ]
  },
  {
   "cell_type": "code",
   "execution_count": 30,
   "id": "d4ac641e",
   "metadata": {},
   "outputs": [
    {
     "data": {
      "text/plain": [
       "14"
      ]
     },
     "execution_count": 30,
     "metadata": {},
     "output_type": "execute_result"
    }
   ],
   "source": [
    "convert_add([\"1\",\"3\",\"5\", 3, 2.5])"
   ]
  },
  {
   "cell_type": "code",
   "execution_count": 32,
   "id": "88bfb0b7",
   "metadata": {},
   "outputs": [
    {
     "data": {
      "text/plain": [
       "12.0"
      ]
     },
     "execution_count": 32,
     "metadata": {},
     "output_type": "execute_result"
    }
   ],
   "source": [
    "a = 12\n",
    "float(a)"
   ]
  },
  {
   "cell_type": "code",
   "execution_count": 23,
   "id": "bdfaf467",
   "metadata": {},
   "outputs": [
    {
     "data": {
      "text/plain": [
       "float"
      ]
     },
     "execution_count": 23,
     "metadata": {},
     "output_type": "execute_result"
    }
   ],
   "source": [
    "type(12.3)"
   ]
  },
  {
   "cell_type": "code",
   "execution_count": 24,
   "id": "c813551c",
   "metadata": {},
   "outputs": [
    {
     "data": {
      "text/plain": [
       "list"
      ]
     },
     "execution_count": 24,
     "metadata": {},
     "output_type": "execute_result"
    }
   ],
   "source": [
    "type([1,2,3,4])"
   ]
  },
  {
   "cell_type": "code",
   "execution_count": 42,
   "id": "5de73cba",
   "metadata": {},
   "outputs": [],
   "source": [
    "def even_num(num1,num2):\n",
    "    if (num1 + num2) % 2 == 0:\n",
    "        return \"This is an even number\", num1 + num2\n",
    "    else:\n",
    "        return \"This is an odd number\", num1 + num2"
   ]
  },
  {
   "cell_type": "code",
   "execution_count": 43,
   "id": "b95c523b",
   "metadata": {},
   "outputs": [
    {
     "data": {
      "text/plain": [
       "('This is an odd number', 7)"
      ]
     },
     "execution_count": 43,
     "metadata": {},
     "output_type": "execute_result"
    }
   ],
   "source": [
    "even_num(3,4)"
   ]
  },
  {
   "cell_type": "code",
   "execution_count": 35,
   "id": "ae06588b",
   "metadata": {},
   "outputs": [
    {
     "data": {
      "text/plain": [
       "0"
      ]
     },
     "execution_count": 35,
     "metadata": {},
     "output_type": "execute_result"
    }
   ],
   "source": [
    "5 % 5"
   ]
  },
  {
   "cell_type": "code",
   "execution_count": 44,
   "id": "934d5e7a",
   "metadata": {},
   "outputs": [
    {
     "data": {
      "text/plain": [
       "1"
      ]
     },
     "execution_count": 44,
     "metadata": {},
     "output_type": "execute_result"
    }
   ],
   "source": [
    "5 // 4"
   ]
  },
  {
   "cell_type": "code",
   "execution_count": null,
   "id": "23843316",
   "metadata": {},
   "outputs": [],
   "source": []
  }
 ],
 "metadata": {
  "kernelspec": {
   "display_name": "Python 3 (ipykernel)",
   "language": "python",
   "name": "python3"
  },
  "language_info": {
   "codemirror_mode": {
    "name": "ipython",
    "version": 3
   },
   "file_extension": ".py",
   "mimetype": "text/x-python",
   "name": "python",
   "nbconvert_exporter": "python",
   "pygments_lexer": "ipython3",
   "version": "3.9.7"
  }
 },
 "nbformat": 4,
 "nbformat_minor": 5
}
